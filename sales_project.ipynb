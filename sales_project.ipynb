{
  "cells": [
    {
      "cell_type": "markdown",
      "id": "f53195d6",
      "metadata": {
        "id": "f53195d6"
      },
      "source": [
        "# Sales Project"
      ]
    },
    {
      "cell_type": "code",
      "source": [
        "from google.colab import files\n",
        "import pathlib, shutil\n",
        "\n",
        "# make datasets/ and upload the file(s)\n",
        "pathlib.Path(\"datasets\").mkdir(exist_ok=True)\n",
        "uploaded = files.upload()  # select sales_data.csv from your computer\n",
        "for name in uploaded.keys():\n",
        "    shutil.move(name, f\"datasets/{name}\")\n",
        "\n",
        "!ls -lah datasets"
      ],
      "metadata": {
        "colab": {
          "base_uri": "https://localhost:8080/",
          "height": 194
        },
        "id": "UMotDZ_UmFGj",
        "outputId": "12289900-3920-4844-eb4c-e1152d494bbf"
      },
      "id": "UMotDZ_UmFGj",
      "execution_count": 1,
      "outputs": [
        {
          "output_type": "display_data",
          "data": {
            "text/plain": [
              "<IPython.core.display.HTML object>"
            ],
            "text/html": [
              "\n",
              "     <input type=\"file\" id=\"files-b23ffd0c-027b-47f9-aed2-c7f1d3c2396f\" name=\"files[]\" multiple disabled\n",
              "        style=\"border:none\" />\n",
              "     <output id=\"result-b23ffd0c-027b-47f9-aed2-c7f1d3c2396f\">\n",
              "      Upload widget is only available when the cell has been executed in the\n",
              "      current browser session. Please rerun this cell to enable.\n",
              "      </output>\n",
              "      <script>// Copyright 2017 Google LLC\n",
              "//\n",
              "// Licensed under the Apache License, Version 2.0 (the \"License\");\n",
              "// you may not use this file except in compliance with the License.\n",
              "// You may obtain a copy of the License at\n",
              "//\n",
              "//      http://www.apache.org/licenses/LICENSE-2.0\n",
              "//\n",
              "// Unless required by applicable law or agreed to in writing, software\n",
              "// distributed under the License is distributed on an \"AS IS\" BASIS,\n",
              "// WITHOUT WARRANTIES OR CONDITIONS OF ANY KIND, either express or implied.\n",
              "// See the License for the specific language governing permissions and\n",
              "// limitations under the License.\n",
              "\n",
              "/**\n",
              " * @fileoverview Helpers for google.colab Python module.\n",
              " */\n",
              "(function(scope) {\n",
              "function span(text, styleAttributes = {}) {\n",
              "  const element = document.createElement('span');\n",
              "  element.textContent = text;\n",
              "  for (const key of Object.keys(styleAttributes)) {\n",
              "    element.style[key] = styleAttributes[key];\n",
              "  }\n",
              "  return element;\n",
              "}\n",
              "\n",
              "// Max number of bytes which will be uploaded at a time.\n",
              "const MAX_PAYLOAD_SIZE = 100 * 1024;\n",
              "\n",
              "function _uploadFiles(inputId, outputId) {\n",
              "  const steps = uploadFilesStep(inputId, outputId);\n",
              "  const outputElement = document.getElementById(outputId);\n",
              "  // Cache steps on the outputElement to make it available for the next call\n",
              "  // to uploadFilesContinue from Python.\n",
              "  outputElement.steps = steps;\n",
              "\n",
              "  return _uploadFilesContinue(outputId);\n",
              "}\n",
              "\n",
              "// This is roughly an async generator (not supported in the browser yet),\n",
              "// where there are multiple asynchronous steps and the Python side is going\n",
              "// to poll for completion of each step.\n",
              "// This uses a Promise to block the python side on completion of each step,\n",
              "// then passes the result of the previous step as the input to the next step.\n",
              "function _uploadFilesContinue(outputId) {\n",
              "  const outputElement = document.getElementById(outputId);\n",
              "  const steps = outputElement.steps;\n",
              "\n",
              "  const next = steps.next(outputElement.lastPromiseValue);\n",
              "  return Promise.resolve(next.value.promise).then((value) => {\n",
              "    // Cache the last promise value to make it available to the next\n",
              "    // step of the generator.\n",
              "    outputElement.lastPromiseValue = value;\n",
              "    return next.value.response;\n",
              "  });\n",
              "}\n",
              "\n",
              "/**\n",
              " * Generator function which is called between each async step of the upload\n",
              " * process.\n",
              " * @param {string} inputId Element ID of the input file picker element.\n",
              " * @param {string} outputId Element ID of the output display.\n",
              " * @return {!Iterable<!Object>} Iterable of next steps.\n",
              " */\n",
              "function* uploadFilesStep(inputId, outputId) {\n",
              "  const inputElement = document.getElementById(inputId);\n",
              "  inputElement.disabled = false;\n",
              "\n",
              "  const outputElement = document.getElementById(outputId);\n",
              "  outputElement.innerHTML = '';\n",
              "\n",
              "  const pickedPromise = new Promise((resolve) => {\n",
              "    inputElement.addEventListener('change', (e) => {\n",
              "      resolve(e.target.files);\n",
              "    });\n",
              "  });\n",
              "\n",
              "  const cancel = document.createElement('button');\n",
              "  inputElement.parentElement.appendChild(cancel);\n",
              "  cancel.textContent = 'Cancel upload';\n",
              "  const cancelPromise = new Promise((resolve) => {\n",
              "    cancel.onclick = () => {\n",
              "      resolve(null);\n",
              "    };\n",
              "  });\n",
              "\n",
              "  // Wait for the user to pick the files.\n",
              "  const files = yield {\n",
              "    promise: Promise.race([pickedPromise, cancelPromise]),\n",
              "    response: {\n",
              "      action: 'starting',\n",
              "    }\n",
              "  };\n",
              "\n",
              "  cancel.remove();\n",
              "\n",
              "  // Disable the input element since further picks are not allowed.\n",
              "  inputElement.disabled = true;\n",
              "\n",
              "  if (!files) {\n",
              "    return {\n",
              "      response: {\n",
              "        action: 'complete',\n",
              "      }\n",
              "    };\n",
              "  }\n",
              "\n",
              "  for (const file of files) {\n",
              "    const li = document.createElement('li');\n",
              "    li.append(span(file.name, {fontWeight: 'bold'}));\n",
              "    li.append(span(\n",
              "        `(${file.type || 'n/a'}) - ${file.size} bytes, ` +\n",
              "        `last modified: ${\n",
              "            file.lastModifiedDate ? file.lastModifiedDate.toLocaleDateString() :\n",
              "                                    'n/a'} - `));\n",
              "    const percent = span('0% done');\n",
              "    li.appendChild(percent);\n",
              "\n",
              "    outputElement.appendChild(li);\n",
              "\n",
              "    const fileDataPromise = new Promise((resolve) => {\n",
              "      const reader = new FileReader();\n",
              "      reader.onload = (e) => {\n",
              "        resolve(e.target.result);\n",
              "      };\n",
              "      reader.readAsArrayBuffer(file);\n",
              "    });\n",
              "    // Wait for the data to be ready.\n",
              "    let fileData = yield {\n",
              "      promise: fileDataPromise,\n",
              "      response: {\n",
              "        action: 'continue',\n",
              "      }\n",
              "    };\n",
              "\n",
              "    // Use a chunked sending to avoid message size limits. See b/62115660.\n",
              "    let position = 0;\n",
              "    do {\n",
              "      const length = Math.min(fileData.byteLength - position, MAX_PAYLOAD_SIZE);\n",
              "      const chunk = new Uint8Array(fileData, position, length);\n",
              "      position += length;\n",
              "\n",
              "      const base64 = btoa(String.fromCharCode.apply(null, chunk));\n",
              "      yield {\n",
              "        response: {\n",
              "          action: 'append',\n",
              "          file: file.name,\n",
              "          data: base64,\n",
              "        },\n",
              "      };\n",
              "\n",
              "      let percentDone = fileData.byteLength === 0 ?\n",
              "          100 :\n",
              "          Math.round((position / fileData.byteLength) * 100);\n",
              "      percent.textContent = `${percentDone}% done`;\n",
              "\n",
              "    } while (position < fileData.byteLength);\n",
              "  }\n",
              "\n",
              "  // All done.\n",
              "  yield {\n",
              "    response: {\n",
              "      action: 'complete',\n",
              "    }\n",
              "  };\n",
              "}\n",
              "\n",
              "scope.google = scope.google || {};\n",
              "scope.google.colab = scope.google.colab || {};\n",
              "scope.google.colab._files = {\n",
              "  _uploadFiles,\n",
              "  _uploadFilesContinue,\n",
              "};\n",
              "})(self);\n",
              "</script> "
            ]
          },
          "metadata": {}
        },
        {
          "output_type": "stream",
          "name": "stdout",
          "text": [
            "Saving sales_data_forecast.csv to sales_data_forecast.csv\n",
            "Saving sales_data.csv to sales_data.csv\n",
            "total 33M\n",
            "drwxr-xr-x 2 root root 4.0K Sep 14 19:01 .\n",
            "drwxr-xr-x 1 root root 4.0K Sep 14 19:01 ..\n",
            "-rw-r--r-- 1 root root  32M Sep 14 19:01 sales_data.csv\n",
            "-rw-r--r-- 1 root root 964K Sep 14 19:01 sales_data_forecast.csv\n"
          ]
        }
      ]
    },
    {
      "cell_type": "markdown",
      "id": "2dd10d68",
      "metadata": {
        "id": "2dd10d68"
      },
      "source": [
        "Let's start by importing necessary libraries and loading the sales dataset."
      ]
    },
    {
      "cell_type": "code",
      "execution_count": 2,
      "id": "8738e815",
      "metadata": {
        "id": "8738e815"
      },
      "outputs": [],
      "source": [
        "from pathlib import Path\n",
        "import pandas as pd\n",
        "import matplotlib.pyplot as plt\n",
        "\n",
        "def load_sales_data():\n",
        "    data_path = Path(\"datasets/sales_data.csv\")\n",
        "    return pd.read_csv(data_path)\n",
        "\n",
        "sales = load_sales_data()"
      ]
    },
    {
      "cell_type": "markdown",
      "id": "68bc1a40",
      "metadata": {
        "id": "68bc1a40"
      },
      "source": [
        "## Exploring and understanding the data\n",
        "\n",
        "Let's start by printing the first five rows."
      ]
    },
    {
      "cell_type": "code",
      "execution_count": 3,
      "id": "49e9b911",
      "metadata": {
        "colab": {
          "base_uri": "https://localhost:8080/",
          "height": 206
        },
        "id": "49e9b911",
        "outputId": "c13bd21e-12a5-43b3-a07b-3c352c310cf9"
      },
      "outputs": [
        {
          "output_type": "execute_result",
          "data": {
            "text/plain": [
              "   store_id        date  is_store_open  is_sale_period            town  \\\n",
              "0       418  2011-04-01              1               0           Dukem   \n",
              "1       119  2009-08-03              1               0  Yepthton Beach   \n",
              "2       791  2010-08-16              1               0           Dukem   \n",
              "3       355  2011-09-02              1               0           Dukem   \n",
              "4       624  2011-09-15              1               0  Yepthton Beach   \n",
              "\n",
              "   n_cust  revenue  \n",
              "0    1053     8828  \n",
              "1     871     6469  \n",
              "2     901     7186  \n",
              "3    1838    16505  \n",
              "4     804     7963  "
            ],
            "text/html": [
              "\n",
              "  <div id=\"df-5c410be1-e128-4715-bbda-1155faccef32\" class=\"colab-df-container\">\n",
              "    <div>\n",
              "<style scoped>\n",
              "    .dataframe tbody tr th:only-of-type {\n",
              "        vertical-align: middle;\n",
              "    }\n",
              "\n",
              "    .dataframe tbody tr th {\n",
              "        vertical-align: top;\n",
              "    }\n",
              "\n",
              "    .dataframe thead th {\n",
              "        text-align: right;\n",
              "    }\n",
              "</style>\n",
              "<table border=\"1\" class=\"dataframe\">\n",
              "  <thead>\n",
              "    <tr style=\"text-align: right;\">\n",
              "      <th></th>\n",
              "      <th>store_id</th>\n",
              "      <th>date</th>\n",
              "      <th>is_store_open</th>\n",
              "      <th>is_sale_period</th>\n",
              "      <th>town</th>\n",
              "      <th>n_cust</th>\n",
              "      <th>revenue</th>\n",
              "    </tr>\n",
              "  </thead>\n",
              "  <tbody>\n",
              "    <tr>\n",
              "      <th>0</th>\n",
              "      <td>418</td>\n",
              "      <td>2011-04-01</td>\n",
              "      <td>1</td>\n",
              "      <td>0</td>\n",
              "      <td>Dukem</td>\n",
              "      <td>1053</td>\n",
              "      <td>8828</td>\n",
              "    </tr>\n",
              "    <tr>\n",
              "      <th>1</th>\n",
              "      <td>119</td>\n",
              "      <td>2009-08-03</td>\n",
              "      <td>1</td>\n",
              "      <td>0</td>\n",
              "      <td>Yepthton Beach</td>\n",
              "      <td>871</td>\n",
              "      <td>6469</td>\n",
              "    </tr>\n",
              "    <tr>\n",
              "      <th>2</th>\n",
              "      <td>791</td>\n",
              "      <td>2010-08-16</td>\n",
              "      <td>1</td>\n",
              "      <td>0</td>\n",
              "      <td>Dukem</td>\n",
              "      <td>901</td>\n",
              "      <td>7186</td>\n",
              "    </tr>\n",
              "    <tr>\n",
              "      <th>3</th>\n",
              "      <td>355</td>\n",
              "      <td>2011-09-02</td>\n",
              "      <td>1</td>\n",
              "      <td>0</td>\n",
              "      <td>Dukem</td>\n",
              "      <td>1838</td>\n",
              "      <td>16505</td>\n",
              "    </tr>\n",
              "    <tr>\n",
              "      <th>4</th>\n",
              "      <td>624</td>\n",
              "      <td>2011-09-15</td>\n",
              "      <td>1</td>\n",
              "      <td>0</td>\n",
              "      <td>Yepthton Beach</td>\n",
              "      <td>804</td>\n",
              "      <td>7963</td>\n",
              "    </tr>\n",
              "  </tbody>\n",
              "</table>\n",
              "</div>\n",
              "    <div class=\"colab-df-buttons\">\n",
              "\n",
              "  <div class=\"colab-df-container\">\n",
              "    <button class=\"colab-df-convert\" onclick=\"convertToInteractive('df-5c410be1-e128-4715-bbda-1155faccef32')\"\n",
              "            title=\"Convert this dataframe to an interactive table.\"\n",
              "            style=\"display:none;\">\n",
              "\n",
              "  <svg xmlns=\"http://www.w3.org/2000/svg\" height=\"24px\" viewBox=\"0 -960 960 960\">\n",
              "    <path d=\"M120-120v-720h720v720H120Zm60-500h600v-160H180v160Zm220 220h160v-160H400v160Zm0 220h160v-160H400v160ZM180-400h160v-160H180v160Zm440 0h160v-160H620v160ZM180-180h160v-160H180v160Zm440 0h160v-160H620v160Z\"/>\n",
              "  </svg>\n",
              "    </button>\n",
              "\n",
              "  <style>\n",
              "    .colab-df-container {\n",
              "      display:flex;\n",
              "      gap: 12px;\n",
              "    }\n",
              "\n",
              "    .colab-df-convert {\n",
              "      background-color: #E8F0FE;\n",
              "      border: none;\n",
              "      border-radius: 50%;\n",
              "      cursor: pointer;\n",
              "      display: none;\n",
              "      fill: #1967D2;\n",
              "      height: 32px;\n",
              "      padding: 0 0 0 0;\n",
              "      width: 32px;\n",
              "    }\n",
              "\n",
              "    .colab-df-convert:hover {\n",
              "      background-color: #E2EBFA;\n",
              "      box-shadow: 0px 1px 2px rgba(60, 64, 67, 0.3), 0px 1px 3px 1px rgba(60, 64, 67, 0.15);\n",
              "      fill: #174EA6;\n",
              "    }\n",
              "\n",
              "    .colab-df-buttons div {\n",
              "      margin-bottom: 4px;\n",
              "    }\n",
              "\n",
              "    [theme=dark] .colab-df-convert {\n",
              "      background-color: #3B4455;\n",
              "      fill: #D2E3FC;\n",
              "    }\n",
              "\n",
              "    [theme=dark] .colab-df-convert:hover {\n",
              "      background-color: #434B5C;\n",
              "      box-shadow: 0px 1px 3px 1px rgba(0, 0, 0, 0.15);\n",
              "      filter: drop-shadow(0px 1px 2px rgba(0, 0, 0, 0.3));\n",
              "      fill: #FFFFFF;\n",
              "    }\n",
              "  </style>\n",
              "\n",
              "    <script>\n",
              "      const buttonEl =\n",
              "        document.querySelector('#df-5c410be1-e128-4715-bbda-1155faccef32 button.colab-df-convert');\n",
              "      buttonEl.style.display =\n",
              "        google.colab.kernel.accessAllowed ? 'block' : 'none';\n",
              "\n",
              "      async function convertToInteractive(key) {\n",
              "        const element = document.querySelector('#df-5c410be1-e128-4715-bbda-1155faccef32');\n",
              "        const dataTable =\n",
              "          await google.colab.kernel.invokeFunction('convertToInteractive',\n",
              "                                                    [key], {});\n",
              "        if (!dataTable) return;\n",
              "\n",
              "        const docLinkHtml = 'Like what you see? Visit the ' +\n",
              "          '<a target=\"_blank\" href=https://colab.research.google.com/notebooks/data_table.ipynb>data table notebook</a>'\n",
              "          + ' to learn more about interactive tables.';\n",
              "        element.innerHTML = '';\n",
              "        dataTable['output_type'] = 'display_data';\n",
              "        await google.colab.output.renderOutput(dataTable, element);\n",
              "        const docLink = document.createElement('div');\n",
              "        docLink.innerHTML = docLinkHtml;\n",
              "        element.appendChild(docLink);\n",
              "      }\n",
              "    </script>\n",
              "  </div>\n",
              "\n",
              "\n",
              "    <div id=\"df-938d3c13-2507-44b4-a0b0-560dbbc459b3\">\n",
              "      <button class=\"colab-df-quickchart\" onclick=\"quickchart('df-938d3c13-2507-44b4-a0b0-560dbbc459b3')\"\n",
              "                title=\"Suggest charts\"\n",
              "                style=\"display:none;\">\n",
              "\n",
              "<svg xmlns=\"http://www.w3.org/2000/svg\" height=\"24px\"viewBox=\"0 0 24 24\"\n",
              "     width=\"24px\">\n",
              "    <g>\n",
              "        <path d=\"M19 3H5c-1.1 0-2 .9-2 2v14c0 1.1.9 2 2 2h14c1.1 0 2-.9 2-2V5c0-1.1-.9-2-2-2zM9 17H7v-7h2v7zm4 0h-2V7h2v10zm4 0h-2v-4h2v4z\"/>\n",
              "    </g>\n",
              "</svg>\n",
              "      </button>\n",
              "\n",
              "<style>\n",
              "  .colab-df-quickchart {\n",
              "      --bg-color: #E8F0FE;\n",
              "      --fill-color: #1967D2;\n",
              "      --hover-bg-color: #E2EBFA;\n",
              "      --hover-fill-color: #174EA6;\n",
              "      --disabled-fill-color: #AAA;\n",
              "      --disabled-bg-color: #DDD;\n",
              "  }\n",
              "\n",
              "  [theme=dark] .colab-df-quickchart {\n",
              "      --bg-color: #3B4455;\n",
              "      --fill-color: #D2E3FC;\n",
              "      --hover-bg-color: #434B5C;\n",
              "      --hover-fill-color: #FFFFFF;\n",
              "      --disabled-bg-color: #3B4455;\n",
              "      --disabled-fill-color: #666;\n",
              "  }\n",
              "\n",
              "  .colab-df-quickchart {\n",
              "    background-color: var(--bg-color);\n",
              "    border: none;\n",
              "    border-radius: 50%;\n",
              "    cursor: pointer;\n",
              "    display: none;\n",
              "    fill: var(--fill-color);\n",
              "    height: 32px;\n",
              "    padding: 0;\n",
              "    width: 32px;\n",
              "  }\n",
              "\n",
              "  .colab-df-quickchart:hover {\n",
              "    background-color: var(--hover-bg-color);\n",
              "    box-shadow: 0 1px 2px rgba(60, 64, 67, 0.3), 0 1px 3px 1px rgba(60, 64, 67, 0.15);\n",
              "    fill: var(--button-hover-fill-color);\n",
              "  }\n",
              "\n",
              "  .colab-df-quickchart-complete:disabled,\n",
              "  .colab-df-quickchart-complete:disabled:hover {\n",
              "    background-color: var(--disabled-bg-color);\n",
              "    fill: var(--disabled-fill-color);\n",
              "    box-shadow: none;\n",
              "  }\n",
              "\n",
              "  .colab-df-spinner {\n",
              "    border: 2px solid var(--fill-color);\n",
              "    border-color: transparent;\n",
              "    border-bottom-color: var(--fill-color);\n",
              "    animation:\n",
              "      spin 1s steps(1) infinite;\n",
              "  }\n",
              "\n",
              "  @keyframes spin {\n",
              "    0% {\n",
              "      border-color: transparent;\n",
              "      border-bottom-color: var(--fill-color);\n",
              "      border-left-color: var(--fill-color);\n",
              "    }\n",
              "    20% {\n",
              "      border-color: transparent;\n",
              "      border-left-color: var(--fill-color);\n",
              "      border-top-color: var(--fill-color);\n",
              "    }\n",
              "    30% {\n",
              "      border-color: transparent;\n",
              "      border-left-color: var(--fill-color);\n",
              "      border-top-color: var(--fill-color);\n",
              "      border-right-color: var(--fill-color);\n",
              "    }\n",
              "    40% {\n",
              "      border-color: transparent;\n",
              "      border-right-color: var(--fill-color);\n",
              "      border-top-color: var(--fill-color);\n",
              "    }\n",
              "    60% {\n",
              "      border-color: transparent;\n",
              "      border-right-color: var(--fill-color);\n",
              "    }\n",
              "    80% {\n",
              "      border-color: transparent;\n",
              "      border-right-color: var(--fill-color);\n",
              "      border-bottom-color: var(--fill-color);\n",
              "    }\n",
              "    90% {\n",
              "      border-color: transparent;\n",
              "      border-bottom-color: var(--fill-color);\n",
              "    }\n",
              "  }\n",
              "</style>\n",
              "\n",
              "      <script>\n",
              "        async function quickchart(key) {\n",
              "          const quickchartButtonEl =\n",
              "            document.querySelector('#' + key + ' button');\n",
              "          quickchartButtonEl.disabled = true;  // To prevent multiple clicks.\n",
              "          quickchartButtonEl.classList.add('colab-df-spinner');\n",
              "          try {\n",
              "            const charts = await google.colab.kernel.invokeFunction(\n",
              "                'suggestCharts', [key], {});\n",
              "          } catch (error) {\n",
              "            console.error('Error during call to suggestCharts:', error);\n",
              "          }\n",
              "          quickchartButtonEl.classList.remove('colab-df-spinner');\n",
              "          quickchartButtonEl.classList.add('colab-df-quickchart-complete');\n",
              "        }\n",
              "        (() => {\n",
              "          let quickchartButtonEl =\n",
              "            document.querySelector('#df-938d3c13-2507-44b4-a0b0-560dbbc459b3 button');\n",
              "          quickchartButtonEl.style.display =\n",
              "            google.colab.kernel.accessAllowed ? 'block' : 'none';\n",
              "        })();\n",
              "      </script>\n",
              "    </div>\n",
              "\n",
              "    </div>\n",
              "  </div>\n"
            ],
            "application/vnd.google.colaboratory.intrinsic+json": {
              "type": "dataframe",
              "variable_name": "sales"
            }
          },
          "metadata": {},
          "execution_count": 3
        }
      ],
      "source": [
        "sales.head()"
      ]
    },
    {
      "cell_type": "markdown",
      "id": "ec133dfc",
      "metadata": {
        "id": "ec133dfc"
      },
      "source": [
        "We have 7 columns. The first five will be used as inputs, and n_cust as well as revenue are our target variables.\n",
        "\n",
        "Let's get a quick description of the data."
      ]
    },
    {
      "cell_type": "code",
      "execution_count": 4,
      "id": "41fc2d0f",
      "metadata": {
        "colab": {
          "base_uri": "https://localhost:8080/"
        },
        "id": "41fc2d0f",
        "outputId": "1cf5dc11-7d2e-4be2-f38a-3a11de05966c"
      },
      "outputs": [
        {
          "output_type": "stream",
          "name": "stdout",
          "text": [
            "<class 'pandas.core.frame.DataFrame'>\n",
            "RangeIndex: 885995 entries, 0 to 885994\n",
            "Data columns (total 7 columns):\n",
            " #   Column          Non-Null Count   Dtype \n",
            "---  ------          --------------   ----- \n",
            " 0   store_id        885995 non-null  int64 \n",
            " 1   date            885995 non-null  object\n",
            " 2   is_store_open   885995 non-null  int64 \n",
            " 3   is_sale_period  885995 non-null  int64 \n",
            " 4   town            885995 non-null  object\n",
            " 5   n_cust          885995 non-null  int64 \n",
            " 6   revenue         885995 non-null  int64 \n",
            "dtypes: int64(5), object(2)\n",
            "memory usage: 47.3+ MB\n"
          ]
        }
      ],
      "source": [
        "sales.info()"
      ]
    },
    {
      "cell_type": "markdown",
      "id": "9e8def09",
      "metadata": {
        "id": "9e8def09"
      },
      "source": [
        "We have 885 995 rows. Five of the columns are integers/numerical attributes (with two categorical variables, 0 and 1), whereas data and town are strings right now.\n",
        "\n",
        "Let's list the different towns and see how many there are of each."
      ]
    },
    {
      "cell_type": "code",
      "execution_count": 5,
      "id": "8e980b44",
      "metadata": {
        "colab": {
          "base_uri": "https://localhost:8080/",
          "height": 743
        },
        "id": "8e980b44",
        "outputId": "a5969b63-b020-45db-f5fa-eaf22873f903"
      },
      "outputs": [
        {
          "output_type": "execute_result",
          "data": {
            "text/plain": [
              "town\n",
              "Dukem                 407155\n",
              "Yepthton Beach        208572\n",
              "Balntermou            103820\n",
              "Psey Hill              56628\n",
              "Rstonemond Hill        32136\n",
              "Port Shep              24872\n",
              "Mount Trancesmi        10712\n",
              "Port Shamlakesmark     10344\n",
              "Nalliwar                8172\n",
              "Ny Creek                7620\n",
              "Mount Wintor            3448\n",
              "Mount Tudo              2540\n",
              "Port Raykwi             1816\n",
              "Ood                     1632\n",
              "Gugam                   1448\n",
              "Mount Kenmun            1448\n",
              "Wadulfield Hill          908\n",
              "Motown                   908\n",
              "Folkbour                 908\n",
              "Mount Peyarchar          908\n",
              "Name: count, dtype: int64"
            ],
            "text/html": [
              "<div>\n",
              "<style scoped>\n",
              "    .dataframe tbody tr th:only-of-type {\n",
              "        vertical-align: middle;\n",
              "    }\n",
              "\n",
              "    .dataframe tbody tr th {\n",
              "        vertical-align: top;\n",
              "    }\n",
              "\n",
              "    .dataframe thead th {\n",
              "        text-align: right;\n",
              "    }\n",
              "</style>\n",
              "<table border=\"1\" class=\"dataframe\">\n",
              "  <thead>\n",
              "    <tr style=\"text-align: right;\">\n",
              "      <th></th>\n",
              "      <th>count</th>\n",
              "    </tr>\n",
              "    <tr>\n",
              "      <th>town</th>\n",
              "      <th></th>\n",
              "    </tr>\n",
              "  </thead>\n",
              "  <tbody>\n",
              "    <tr>\n",
              "      <th>Dukem</th>\n",
              "      <td>407155</td>\n",
              "    </tr>\n",
              "    <tr>\n",
              "      <th>Yepthton Beach</th>\n",
              "      <td>208572</td>\n",
              "    </tr>\n",
              "    <tr>\n",
              "      <th>Balntermou</th>\n",
              "      <td>103820</td>\n",
              "    </tr>\n",
              "    <tr>\n",
              "      <th>Psey Hill</th>\n",
              "      <td>56628</td>\n",
              "    </tr>\n",
              "    <tr>\n",
              "      <th>Rstonemond Hill</th>\n",
              "      <td>32136</td>\n",
              "    </tr>\n",
              "    <tr>\n",
              "      <th>Port Shep</th>\n",
              "      <td>24872</td>\n",
              "    </tr>\n",
              "    <tr>\n",
              "      <th>Mount Trancesmi</th>\n",
              "      <td>10712</td>\n",
              "    </tr>\n",
              "    <tr>\n",
              "      <th>Port Shamlakesmark</th>\n",
              "      <td>10344</td>\n",
              "    </tr>\n",
              "    <tr>\n",
              "      <th>Nalliwar</th>\n",
              "      <td>8172</td>\n",
              "    </tr>\n",
              "    <tr>\n",
              "      <th>Ny Creek</th>\n",
              "      <td>7620</td>\n",
              "    </tr>\n",
              "    <tr>\n",
              "      <th>Mount Wintor</th>\n",
              "      <td>3448</td>\n",
              "    </tr>\n",
              "    <tr>\n",
              "      <th>Mount Tudo</th>\n",
              "      <td>2540</td>\n",
              "    </tr>\n",
              "    <tr>\n",
              "      <th>Port Raykwi</th>\n",
              "      <td>1816</td>\n",
              "    </tr>\n",
              "    <tr>\n",
              "      <th>Ood</th>\n",
              "      <td>1632</td>\n",
              "    </tr>\n",
              "    <tr>\n",
              "      <th>Gugam</th>\n",
              "      <td>1448</td>\n",
              "    </tr>\n",
              "    <tr>\n",
              "      <th>Mount Kenmun</th>\n",
              "      <td>1448</td>\n",
              "    </tr>\n",
              "    <tr>\n",
              "      <th>Wadulfield Hill</th>\n",
              "      <td>908</td>\n",
              "    </tr>\n",
              "    <tr>\n",
              "      <th>Motown</th>\n",
              "      <td>908</td>\n",
              "    </tr>\n",
              "    <tr>\n",
              "      <th>Folkbour</th>\n",
              "      <td>908</td>\n",
              "    </tr>\n",
              "    <tr>\n",
              "      <th>Mount Peyarchar</th>\n",
              "      <td>908</td>\n",
              "    </tr>\n",
              "  </tbody>\n",
              "</table>\n",
              "</div><br><label><b>dtype:</b> int64</label>"
            ]
          },
          "metadata": {},
          "execution_count": 5
        }
      ],
      "source": [
        "sales[\"town\"].value_counts()"
      ]
    },
    {
      "cell_type": "markdown",
      "id": "9f516a75",
      "metadata": {
        "id": "9f516a75"
      },
      "source": [
        "We can see that there are 20 towns. Dukem makes up almost half of the dataset, whereas four of the towns only appear 908 times.\n",
        "\n",
        "Let's explore the date variable. Let's also add additonal features: year, month, day of the week, and day of the month. Features like day of the week could add information, as people maybe buy more during weekends. The day of the month might also be useful, since people might buy more when they get their salary. Let's also look at the DataFrame again to see the new features."
      ]
    },
    {
      "cell_type": "code",
      "execution_count": 6,
      "id": "86d7601e",
      "metadata": {
        "colab": {
          "base_uri": "https://localhost:8080/",
          "height": 414
        },
        "id": "86d7601e",
        "outputId": "d4e9de73-d53f-4c9c-887f-47bdc3e912de"
      },
      "outputs": [
        {
          "output_type": "stream",
          "name": "stdout",
          "text": [
            "Date range:\n",
            "Start date: July 07, 2009\n",
            "End date:   December 31, 2011\n",
            "Duration:   907 days\n",
            "\n",
            "Rows per year:\n",
            "2009: 179,601 rows\n",
            "2010: 368,285 rows\n",
            "2011: 338,109 rows\n",
            "\n",
            "Total rows: 885,995\n",
            "Average rows per day: 976.8\n"
          ]
        },
        {
          "output_type": "execute_result",
          "data": {
            "text/plain": [
              "   store_id       date  is_store_open  is_sale_period            town  n_cust  \\\n",
              "0       418 2011-04-01              1               0           Dukem    1053   \n",
              "1       119 2009-08-03              1               0  Yepthton Beach     871   \n",
              "2       791 2010-08-16              1               0           Dukem     901   \n",
              "3       355 2011-09-02              1               0           Dukem    1838   \n",
              "4       624 2011-09-15              1               0  Yepthton Beach     804   \n",
              "\n",
              "   revenue  year  month  day_of_week  day_of_month  \n",
              "0     8828  2011      4            4             1  \n",
              "1     6469  2009      8            0             3  \n",
              "2     7186  2010      8            0            16  \n",
              "3    16505  2011      9            4             2  \n",
              "4     7963  2011      9            3            15  "
            ],
            "text/html": [
              "\n",
              "  <div id=\"df-f26e6c7a-a6ef-40ab-a517-f9f04d6035e8\" class=\"colab-df-container\">\n",
              "    <div>\n",
              "<style scoped>\n",
              "    .dataframe tbody tr th:only-of-type {\n",
              "        vertical-align: middle;\n",
              "    }\n",
              "\n",
              "    .dataframe tbody tr th {\n",
              "        vertical-align: top;\n",
              "    }\n",
              "\n",
              "    .dataframe thead th {\n",
              "        text-align: right;\n",
              "    }\n",
              "</style>\n",
              "<table border=\"1\" class=\"dataframe\">\n",
              "  <thead>\n",
              "    <tr style=\"text-align: right;\">\n",
              "      <th></th>\n",
              "      <th>store_id</th>\n",
              "      <th>date</th>\n",
              "      <th>is_store_open</th>\n",
              "      <th>is_sale_period</th>\n",
              "      <th>town</th>\n",
              "      <th>n_cust</th>\n",
              "      <th>revenue</th>\n",
              "      <th>year</th>\n",
              "      <th>month</th>\n",
              "      <th>day_of_week</th>\n",
              "      <th>day_of_month</th>\n",
              "    </tr>\n",
              "  </thead>\n",
              "  <tbody>\n",
              "    <tr>\n",
              "      <th>0</th>\n",
              "      <td>418</td>\n",
              "      <td>2011-04-01</td>\n",
              "      <td>1</td>\n",
              "      <td>0</td>\n",
              "      <td>Dukem</td>\n",
              "      <td>1053</td>\n",
              "      <td>8828</td>\n",
              "      <td>2011</td>\n",
              "      <td>4</td>\n",
              "      <td>4</td>\n",
              "      <td>1</td>\n",
              "    </tr>\n",
              "    <tr>\n",
              "      <th>1</th>\n",
              "      <td>119</td>\n",
              "      <td>2009-08-03</td>\n",
              "      <td>1</td>\n",
              "      <td>0</td>\n",
              "      <td>Yepthton Beach</td>\n",
              "      <td>871</td>\n",
              "      <td>6469</td>\n",
              "      <td>2009</td>\n",
              "      <td>8</td>\n",
              "      <td>0</td>\n",
              "      <td>3</td>\n",
              "    </tr>\n",
              "    <tr>\n",
              "      <th>2</th>\n",
              "      <td>791</td>\n",
              "      <td>2010-08-16</td>\n",
              "      <td>1</td>\n",
              "      <td>0</td>\n",
              "      <td>Dukem</td>\n",
              "      <td>901</td>\n",
              "      <td>7186</td>\n",
              "      <td>2010</td>\n",
              "      <td>8</td>\n",
              "      <td>0</td>\n",
              "      <td>16</td>\n",
              "    </tr>\n",
              "    <tr>\n",
              "      <th>3</th>\n",
              "      <td>355</td>\n",
              "      <td>2011-09-02</td>\n",
              "      <td>1</td>\n",
              "      <td>0</td>\n",
              "      <td>Dukem</td>\n",
              "      <td>1838</td>\n",
              "      <td>16505</td>\n",
              "      <td>2011</td>\n",
              "      <td>9</td>\n",
              "      <td>4</td>\n",
              "      <td>2</td>\n",
              "    </tr>\n",
              "    <tr>\n",
              "      <th>4</th>\n",
              "      <td>624</td>\n",
              "      <td>2011-09-15</td>\n",
              "      <td>1</td>\n",
              "      <td>0</td>\n",
              "      <td>Yepthton Beach</td>\n",
              "      <td>804</td>\n",
              "      <td>7963</td>\n",
              "      <td>2011</td>\n",
              "      <td>9</td>\n",
              "      <td>3</td>\n",
              "      <td>15</td>\n",
              "    </tr>\n",
              "  </tbody>\n",
              "</table>\n",
              "</div>\n",
              "    <div class=\"colab-df-buttons\">\n",
              "\n",
              "  <div class=\"colab-df-container\">\n",
              "    <button class=\"colab-df-convert\" onclick=\"convertToInteractive('df-f26e6c7a-a6ef-40ab-a517-f9f04d6035e8')\"\n",
              "            title=\"Convert this dataframe to an interactive table.\"\n",
              "            style=\"display:none;\">\n",
              "\n",
              "  <svg xmlns=\"http://www.w3.org/2000/svg\" height=\"24px\" viewBox=\"0 -960 960 960\">\n",
              "    <path d=\"M120-120v-720h720v720H120Zm60-500h600v-160H180v160Zm220 220h160v-160H400v160Zm0 220h160v-160H400v160ZM180-400h160v-160H180v160Zm440 0h160v-160H620v160ZM180-180h160v-160H180v160Zm440 0h160v-160H620v160Z\"/>\n",
              "  </svg>\n",
              "    </button>\n",
              "\n",
              "  <style>\n",
              "    .colab-df-container {\n",
              "      display:flex;\n",
              "      gap: 12px;\n",
              "    }\n",
              "\n",
              "    .colab-df-convert {\n",
              "      background-color: #E8F0FE;\n",
              "      border: none;\n",
              "      border-radius: 50%;\n",
              "      cursor: pointer;\n",
              "      display: none;\n",
              "      fill: #1967D2;\n",
              "      height: 32px;\n",
              "      padding: 0 0 0 0;\n",
              "      width: 32px;\n",
              "    }\n",
              "\n",
              "    .colab-df-convert:hover {\n",
              "      background-color: #E2EBFA;\n",
              "      box-shadow: 0px 1px 2px rgba(60, 64, 67, 0.3), 0px 1px 3px 1px rgba(60, 64, 67, 0.15);\n",
              "      fill: #174EA6;\n",
              "    }\n",
              "\n",
              "    .colab-df-buttons div {\n",
              "      margin-bottom: 4px;\n",
              "    }\n",
              "\n",
              "    [theme=dark] .colab-df-convert {\n",
              "      background-color: #3B4455;\n",
              "      fill: #D2E3FC;\n",
              "    }\n",
              "\n",
              "    [theme=dark] .colab-df-convert:hover {\n",
              "      background-color: #434B5C;\n",
              "      box-shadow: 0px 1px 3px 1px rgba(0, 0, 0, 0.15);\n",
              "      filter: drop-shadow(0px 1px 2px rgba(0, 0, 0, 0.3));\n",
              "      fill: #FFFFFF;\n",
              "    }\n",
              "  </style>\n",
              "\n",
              "    <script>\n",
              "      const buttonEl =\n",
              "        document.querySelector('#df-f26e6c7a-a6ef-40ab-a517-f9f04d6035e8 button.colab-df-convert');\n",
              "      buttonEl.style.display =\n",
              "        google.colab.kernel.accessAllowed ? 'block' : 'none';\n",
              "\n",
              "      async function convertToInteractive(key) {\n",
              "        const element = document.querySelector('#df-f26e6c7a-a6ef-40ab-a517-f9f04d6035e8');\n",
              "        const dataTable =\n",
              "          await google.colab.kernel.invokeFunction('convertToInteractive',\n",
              "                                                    [key], {});\n",
              "        if (!dataTable) return;\n",
              "\n",
              "        const docLinkHtml = 'Like what you see? Visit the ' +\n",
              "          '<a target=\"_blank\" href=https://colab.research.google.com/notebooks/data_table.ipynb>data table notebook</a>'\n",
              "          + ' to learn more about interactive tables.';\n",
              "        element.innerHTML = '';\n",
              "        dataTable['output_type'] = 'display_data';\n",
              "        await google.colab.output.renderOutput(dataTable, element);\n",
              "        const docLink = document.createElement('div');\n",
              "        docLink.innerHTML = docLinkHtml;\n",
              "        element.appendChild(docLink);\n",
              "      }\n",
              "    </script>\n",
              "  </div>\n",
              "\n",
              "\n",
              "    <div id=\"df-8c289025-0382-4f4a-b9b3-e93b0703887d\">\n",
              "      <button class=\"colab-df-quickchart\" onclick=\"quickchart('df-8c289025-0382-4f4a-b9b3-e93b0703887d')\"\n",
              "                title=\"Suggest charts\"\n",
              "                style=\"display:none;\">\n",
              "\n",
              "<svg xmlns=\"http://www.w3.org/2000/svg\" height=\"24px\"viewBox=\"0 0 24 24\"\n",
              "     width=\"24px\">\n",
              "    <g>\n",
              "        <path d=\"M19 3H5c-1.1 0-2 .9-2 2v14c0 1.1.9 2 2 2h14c1.1 0 2-.9 2-2V5c0-1.1-.9-2-2-2zM9 17H7v-7h2v7zm4 0h-2V7h2v10zm4 0h-2v-4h2v4z\"/>\n",
              "    </g>\n",
              "</svg>\n",
              "      </button>\n",
              "\n",
              "<style>\n",
              "  .colab-df-quickchart {\n",
              "      --bg-color: #E8F0FE;\n",
              "      --fill-color: #1967D2;\n",
              "      --hover-bg-color: #E2EBFA;\n",
              "      --hover-fill-color: #174EA6;\n",
              "      --disabled-fill-color: #AAA;\n",
              "      --disabled-bg-color: #DDD;\n",
              "  }\n",
              "\n",
              "  [theme=dark] .colab-df-quickchart {\n",
              "      --bg-color: #3B4455;\n",
              "      --fill-color: #D2E3FC;\n",
              "      --hover-bg-color: #434B5C;\n",
              "      --hover-fill-color: #FFFFFF;\n",
              "      --disabled-bg-color: #3B4455;\n",
              "      --disabled-fill-color: #666;\n",
              "  }\n",
              "\n",
              "  .colab-df-quickchart {\n",
              "    background-color: var(--bg-color);\n",
              "    border: none;\n",
              "    border-radius: 50%;\n",
              "    cursor: pointer;\n",
              "    display: none;\n",
              "    fill: var(--fill-color);\n",
              "    height: 32px;\n",
              "    padding: 0;\n",
              "    width: 32px;\n",
              "  }\n",
              "\n",
              "  .colab-df-quickchart:hover {\n",
              "    background-color: var(--hover-bg-color);\n",
              "    box-shadow: 0 1px 2px rgba(60, 64, 67, 0.3), 0 1px 3px 1px rgba(60, 64, 67, 0.15);\n",
              "    fill: var(--button-hover-fill-color);\n",
              "  }\n",
              "\n",
              "  .colab-df-quickchart-complete:disabled,\n",
              "  .colab-df-quickchart-complete:disabled:hover {\n",
              "    background-color: var(--disabled-bg-color);\n",
              "    fill: var(--disabled-fill-color);\n",
              "    box-shadow: none;\n",
              "  }\n",
              "\n",
              "  .colab-df-spinner {\n",
              "    border: 2px solid var(--fill-color);\n",
              "    border-color: transparent;\n",
              "    border-bottom-color: var(--fill-color);\n",
              "    animation:\n",
              "      spin 1s steps(1) infinite;\n",
              "  }\n",
              "\n",
              "  @keyframes spin {\n",
              "    0% {\n",
              "      border-color: transparent;\n",
              "      border-bottom-color: var(--fill-color);\n",
              "      border-left-color: var(--fill-color);\n",
              "    }\n",
              "    20% {\n",
              "      border-color: transparent;\n",
              "      border-left-color: var(--fill-color);\n",
              "      border-top-color: var(--fill-color);\n",
              "    }\n",
              "    30% {\n",
              "      border-color: transparent;\n",
              "      border-left-color: var(--fill-color);\n",
              "      border-top-color: var(--fill-color);\n",
              "      border-right-color: var(--fill-color);\n",
              "    }\n",
              "    40% {\n",
              "      border-color: transparent;\n",
              "      border-right-color: var(--fill-color);\n",
              "      border-top-color: var(--fill-color);\n",
              "    }\n",
              "    60% {\n",
              "      border-color: transparent;\n",
              "      border-right-color: var(--fill-color);\n",
              "    }\n",
              "    80% {\n",
              "      border-color: transparent;\n",
              "      border-right-color: var(--fill-color);\n",
              "      border-bottom-color: var(--fill-color);\n",
              "    }\n",
              "    90% {\n",
              "      border-color: transparent;\n",
              "      border-bottom-color: var(--fill-color);\n",
              "    }\n",
              "  }\n",
              "</style>\n",
              "\n",
              "      <script>\n",
              "        async function quickchart(key) {\n",
              "          const quickchartButtonEl =\n",
              "            document.querySelector('#' + key + ' button');\n",
              "          quickchartButtonEl.disabled = true;  // To prevent multiple clicks.\n",
              "          quickchartButtonEl.classList.add('colab-df-spinner');\n",
              "          try {\n",
              "            const charts = await google.colab.kernel.invokeFunction(\n",
              "                'suggestCharts', [key], {});\n",
              "          } catch (error) {\n",
              "            console.error('Error during call to suggestCharts:', error);\n",
              "          }\n",
              "          quickchartButtonEl.classList.remove('colab-df-spinner');\n",
              "          quickchartButtonEl.classList.add('colab-df-quickchart-complete');\n",
              "        }\n",
              "        (() => {\n",
              "          let quickchartButtonEl =\n",
              "            document.querySelector('#df-8c289025-0382-4f4a-b9b3-e93b0703887d button');\n",
              "          quickchartButtonEl.style.display =\n",
              "            google.colab.kernel.accessAllowed ? 'block' : 'none';\n",
              "        })();\n",
              "      </script>\n",
              "    </div>\n",
              "\n",
              "    </div>\n",
              "  </div>\n"
            ],
            "application/vnd.google.colaboratory.intrinsic+json": {
              "type": "dataframe",
              "variable_name": "sales"
            }
          },
          "metadata": {},
          "execution_count": 6
        }
      ],
      "source": [
        "# Convert date to datetime and create additional features\n",
        "sales['date'] = pd.to_datetime(sales['date'])\n",
        "sales['year'] = sales['date'].dt.year\n",
        "sales['month'] = sales['date'].dt.month\n",
        "sales['day_of_week'] = sales['date'].dt.dayofweek\n",
        "sales['day_of_month'] = sales['date'].dt.day\n",
        "\n",
        "print(\"Date range:\")\n",
        "print(f\"Start date: {sales['date'].min().strftime('%B %d, %Y')}\")\n",
        "print(f\"End date:   {sales['date'].max().strftime('%B %d, %Y')}\")\n",
        "print(f\"Duration:   {(sales['date'].max() - sales['date'].min()).days} days\")\n",
        "\n",
        "print(\"\\nRows per year:\")\n",
        "for year in sorted(sales['year'].unique()):\n",
        "    count = (sales['year'] == year).sum()\n",
        "    print(f\"{year}: {count:,} rows\")\n",
        "\n",
        "print(f\"\\nTotal rows: {len(sales):,}\")\n",
        "print(f\"Average rows per day: {len(sales) / (sales['date'].max() - sales['date'].min()).days:.1f}\")\n",
        "\n",
        "sales.head()"
      ]
    },
    {
      "cell_type": "markdown",
      "id": "c8d04722",
      "metadata": {
        "id": "c8d04722"
      },
      "source": [
        "The duration is 907 days, so I'm guessing that the towns that only have 908 entries have one for each day. Towns with many entries have many different stores/store ids'.\n",
        "\n",
        "Let's understand the store_id column better."
      ]
    },
    {
      "cell_type": "code",
      "execution_count": 7,
      "id": "6c0088d7",
      "metadata": {
        "colab": {
          "base_uri": "https://localhost:8080/"
        },
        "id": "6c0088d7",
        "outputId": "fb8a10e5-d60f-42fc-ac11-82f5f7d2351d"
      },
      "outputs": [
        {
          "output_type": "stream",
          "name": "stdout",
          "text": [
            "Store analysis:\n",
            "Number of unique stores: 1009\n",
            "Min store ID: 1\n",
            "Max store ID: 1009\n",
            "Total rows: 885,995\n",
            "Average rows per store: 878.1\n",
            "\n",
            "Rows per store:\n",
            "Min rows per store: 724\n",
            "Max rows per store: 908\n",
            "Median rows per store: 908.0\n",
            "\n",
            "Stores with most rows:\n",
            "store_id\n",
            "503    908\n",
            "418    908\n",
            "119    908\n",
            "791    908\n",
            "355    908\n",
            "Name: count, dtype: int64\n",
            "\n",
            "Stores with least rows:\n",
            "store_id\n",
            "501    724\n",
            "575    724\n",
            "644    724\n",
            "920    724\n",
            "127    724\n",
            "Name: count, dtype: int64\n"
          ]
        }
      ],
      "source": [
        "print(\"Store analysis:\")\n",
        "print(f\"Number of unique stores: {sales['store_id'].nunique()}\")\n",
        "print(f\"Min store ID: {sales['store_id'].min()}\")\n",
        "print(f\"Max store ID: {sales['store_id'].max()}\")\n",
        "print(f\"Total rows: {len(sales):,}\")\n",
        "print(f\"Average rows per store: {len(sales) / sales['store_id'].nunique():.1f}\")\n",
        "\n",
        "store_counts = sales['store_id'].value_counts()\n",
        "print(f\"\\nRows per store:\")\n",
        "print(f\"Min rows per store: {store_counts.min()}\")\n",
        "print(f\"Max rows per store: {store_counts.max()}\")\n",
        "print(f\"Median rows per store: {store_counts.median()}\")\n",
        "\n",
        "print(f\"\\nStores with most rows:\")\n",
        "print(store_counts.head())\n",
        "print(f\"\\nStores with least rows:\")\n",
        "print(store_counts.tail())"
      ]
    },
    {
      "cell_type": "markdown",
      "id": "7451a8f4",
      "metadata": {
        "id": "7451a8f4"
      },
      "source": [
        "We have 1001 stores. Some stores appear 724 times (min, presumably 724 different days) and others 908 times (these are presumably stores that have an entry for each day in the dataset).\n",
        "\n",
        "Let's now look at the numerical attributes. First, we'll create a function to save images."
      ]
    },
    {
      "cell_type": "code",
      "execution_count": 8,
      "id": "ecfa0f7f",
      "metadata": {
        "id": "ecfa0f7f"
      },
      "outputs": [],
      "source": [
        "IMAGES_PATH = Path() / \"images\" / \"sales_analysis\"\n",
        "IMAGES_PATH.mkdir(parents=True, exist_ok=True)\n",
        "\n",
        "def save_fig(fig_id, tight_layout=True, fig_extension=\"png\", resolution=300):\n",
        "    path = IMAGES_PATH / f\"{fig_id}.{fig_extension}\"\n",
        "    if tight_layout:\n",
        "        plt.tight_layout()\n",
        "    plt.savefig(path, format=fig_extension, dpi=resolution)"
      ]
    },
    {
      "cell_type": "markdown",
      "id": "7d1c3b0b",
      "metadata": {
        "id": "7d1c3b0b"
      },
      "source": [
        "We can now plot a histogram for each numerical attribute (and save it to the images folder)."
      ]
    },
    {
      "cell_type": "code",
      "execution_count": 9,
      "id": "4fe07a4b",
      "metadata": {
        "colab": {
          "base_uri": "https://localhost:8080/",
          "height": 795
        },
        "id": "4fe07a4b",
        "outputId": "c414bcc0-953e-4e44-984f-bd5649de1c24"
      },
      "outputs": [
        {
          "output_type": "display_data",
          "data": {
            "text/plain": [
              "<Figure size 1200x800 with 12 Axes>"
            ],
            "image/png": "[encoded data removed]"
          },
          "metadata": {}
        }
      ],
      "source": [
        "import matplotlib.pyplot as plt\n",
        "\n",
        "# extra code – the next 5 lines define the default font sizes\n",
        "plt.rc('font', size=14)\n",
        "plt.rc('axes', labelsize=14, titlesize=14)\n",
        "plt.rc('legend', fontsize=14)\n",
        "plt.rc('xtick', labelsize=10)\n",
        "plt.rc('ytick', labelsize=10)\n",
        "\n",
        "sales.hist(bins=50, figsize=(12, 8))\n",
        "save_fig(\"sales_histogram_plots\")  # extra code\n",
        "plt.show()"
      ]
    },
    {
      "cell_type": "markdown",
      "id": "da6cd5b8",
      "metadata": {
        "id": "da6cd5b8"
      },
      "source": [
        "We can see that the stores are open more often than not, and that it's a sales period in about 350K out of almost 900K rows. The number of customers and the revenue is not normally distributed, rather we can see a right-skewed distribution.\n",
        "\n",
        "Note: The distibution of the outcome variables suggest we might want to use a tree-based model like XGBoost. We might have to apply log transformations if we use linear models. It also suggests we might want to use MAE. See the sales project report for more."
      ]
    },
    {
      "cell_type": "markdown",
      "id": "bad0bc54",
      "metadata": {
        "id": "bad0bc54"
      },
      "source": [
        "## Creating a test set\n",
        "\n",
        "Note: See the report for more information on the reasoning behind creating this test set."
      ]
    },
    {
      "cell_type": "code",
      "execution_count": 10,
      "id": "effe4e6b",
      "metadata": {
        "colab": {
          "base_uri": "https://localhost:8080/"
        },
        "id": "effe4e6b",
        "outputId": "9f63d1e0-684d-4435-8632-000ef3042b7c"
      },
      "outputs": [
        {
          "output_type": "stream",
          "name": "stdout",
          "text": [
            "Town distribution in train set:\n",
            "town\n",
            "Dukem                 45.95\n",
            "Yepthton Beach        23.54\n",
            "Balntermou            11.72\n",
            "Psey Hill              6.39\n",
            "Rstonemond Hill        3.63\n",
            "Port Shep              2.81\n",
            "Mount Trancesmi        1.21\n",
            "Port Shamlakesmark     1.17\n",
            "Nalliwar               0.92\n",
            "Ny Creek               0.86\n",
            "Mount Wintor           0.39\n",
            "Mount Tudo             0.29\n",
            "Port Raykwi            0.20\n",
            "Ood                    0.18\n",
            "Gugam                  0.16\n",
            "Mount Kenmun           0.16\n",
            "Motown                 0.10\n",
            "Mount Peyarchar        0.10\n",
            "Wadulfield Hill        0.10\n",
            "Folkbour               0.10\n",
            "Name: count, dtype: float64\n",
            "\n",
            "Town distribution in test set:\n",
            "town\n",
            "Dukem                 45.95\n",
            "Yepthton Beach        23.54\n",
            "Balntermou            11.72\n",
            "Psey Hill              6.39\n",
            "Rstonemond Hill        3.63\n",
            "Port Shep              2.81\n",
            "Mount Trancesmi        1.21\n",
            "Port Shamlakesmark     1.17\n",
            "Nalliwar               0.92\n",
            "Ny Creek               0.86\n",
            "Mount Wintor           0.39\n",
            "Mount Tudo             0.29\n",
            "Port Raykwi            0.20\n",
            "Ood                    0.18\n",
            "Mount Kenmun           0.16\n",
            "Gugam                  0.16\n",
            "Mount Peyarchar        0.10\n",
            "Motown                 0.10\n",
            "Wadulfield Hill        0.10\n",
            "Folkbour               0.10\n",
            "Name: count, dtype: float64\n"
          ]
        }
      ],
      "source": [
        "from sklearn.model_selection import train_test_split\n",
        "\n",
        "# Stratify by town to create a representative test set\n",
        "train_set, test_set = train_test_split(\n",
        "    sales,\n",
        "    test_size=0.2,\n",
        "    stratify=sales[\"town\"],\n",
        "    random_state=42\n",
        ")\n",
        "\n",
        "print(\"Town distribution in train set:\")\n",
        "print((train_set[\"town\"].value_counts() / len(train_set) * 100).round(2))\n",
        "print(\"\\nTown distribution in test set:\")\n",
        "print((test_set[\"town\"].value_counts() / len(test_set) * 100).round(2))"
      ]
    },
    {
      "cell_type": "markdown",
      "id": "ec865f85",
      "metadata": {
        "id": "ec865f85"
      },
      "source": [
        "Checking that towns are unevenly distributed in sales_data_forecast too."
      ]
    },
    {
      "cell_type": "code",
      "execution_count": 11,
      "id": "bfe47a11",
      "metadata": {
        "colab": {
          "base_uri": "https://localhost:8080/"
        },
        "id": "bfe47a11",
        "outputId": "81a13928-c6d4-4c2d-f723-455cb9c542f7"
      },
      "outputs": [
        {
          "output_type": "stream",
          "name": "stdout",
          "text": [
            "Towns distribution in sales_data:\n",
            "town\n",
            "Dukem                 407155\n",
            "Yepthton Beach        208572\n",
            "Balntermou            103820\n",
            "Psey Hill              56628\n",
            "Rstonemond Hill        32136\n",
            "Port Shep              24872\n",
            "Mount Trancesmi        10712\n",
            "Port Shamlakesmark     10344\n",
            "Nalliwar                8172\n",
            "Ny Creek                7620\n",
            "Mount Wintor            3448\n",
            "Mount Tudo              2540\n",
            "Port Raykwi             1816\n",
            "Ood                     1632\n",
            "Gugam                   1448\n",
            "Mount Kenmun            1448\n",
            "Wadulfield Hill          908\n",
            "Motown                   908\n",
            "Folkbour                 908\n",
            "Mount Peyarchar          908\n",
            "Name: count, dtype: int64\n",
            "\n",
            "Town distribution in sales_data_forecast:\n",
            "town\n",
            "Dukem                 15742\n",
            "Yepthton Beach         8058\n",
            "Balntermou             4046\n",
            "Psey Hill              2210\n",
            "Rstonemond Hill        1224\n",
            "Port Shep               952\n",
            "Mount Trancesmi         408\n",
            "Port Shamlakesmark      408\n",
            "Ny Creek                306\n",
            "Nalliwar                306\n",
            "Mount Wintor            136\n",
            "Mount Tudo              102\n",
            "Port Raykwi              68\n",
            "Gugam                    68\n",
            "Mount Kenmun             68\n",
            "Ood                      68\n",
            "Wadulfield Hill          34\n",
            "Mount Peyarchar          34\n",
            "Folkbour                 34\n",
            "Motown                   34\n",
            "Name: count, dtype: int64\n"
          ]
        }
      ],
      "source": [
        "# Load forecast data and compare town distributions\n",
        "forecast = pd.read_csv(\"datasets/sales_data_forecast.csv\")\n",
        "\n",
        "print(\"Towns distribution in sales_data:\")\n",
        "print(sales['town'].value_counts())\n",
        "print(\"\\nTown distribution in sales_data_forecast:\")\n",
        "print(forecast['town'].value_counts())"
      ]
    },
    {
      "cell_type": "markdown",
      "id": "d46fdec7",
      "metadata": {
        "id": "d46fdec7"
      },
      "source": [
        "Let's add the additonal features in sales_data_forecast.csv too."
      ]
    },
    {
      "cell_type": "code",
      "execution_count": 12,
      "id": "c86c554b",
      "metadata": {
        "id": "c86c554b"
      },
      "outputs": [],
      "source": [
        "forecast['date'] = pd.to_datetime(forecast['date'])\n",
        "forecast['year'] = forecast['date'].dt.year\n",
        "forecast['month'] = forecast['date'].dt.month\n",
        "forecast['day_of_week'] = forecast['date'].dt.dayofweek\n",
        "forecast['day_of_month'] = forecast['date'].dt.day"
      ]
    },
    {
      "cell_type": "markdown",
      "id": "6ff3dd64",
      "metadata": {
        "id": "6ff3dd64"
      },
      "source": [
        "## Looking at correlations"
      ]
    },
    {
      "cell_type": "code",
      "execution_count": 13,
      "id": "6548549d",
      "metadata": {
        "colab": {
          "base_uri": "https://localhost:8080/"
        },
        "id": "6548549d",
        "outputId": "25fc9ef7-2b7d-4f3a-8028-529969f18179"
      },
      "outputs": [
        {
          "output_type": "stream",
          "name": "stdout",
          "text": [
            "Correlations with n_cust (customers):\n",
            "n_cust            1.000000\n",
            "revenue           0.903591\n",
            "is_store_open     0.547118\n",
            "is_sale_period    0.276769\n",
            "year              0.019420\n",
            "store_id          0.013675\n",
            "month            -0.016976\n",
            "day_of_month     -0.019281\n",
            "day_of_week      -0.337566\n",
            "Name: n_cust, dtype: float64\n",
            "\n",
            "Correlations with revenue:\n",
            "revenue           1.000000\n",
            "n_cust            0.903591\n",
            "is_store_open     0.600307\n",
            "is_sale_period    0.395571\n",
            "year              0.039076\n",
            "store_id         -0.003909\n",
            "month            -0.010386\n",
            "day_of_month     -0.042575\n",
            "day_of_week      -0.402958\n",
            "Name: revenue, dtype: float64\n"
          ]
        }
      ],
      "source": [
        "# Calculate correlations between inputs and outcome variables\n",
        "corr_matrix = sales.corr(numeric_only=True)\n",
        "\n",
        "print(\"Correlations with n_cust (customers):\")\n",
        "print(corr_matrix[\"n_cust\"].sort_values(ascending=False))\n",
        "\n",
        "print(\"\\nCorrelations with revenue:\")\n",
        "print(corr_matrix[\"revenue\"].sort_values(ascending=False))"
      ]
    },
    {
      "cell_type": "markdown",
      "id": "bb977379",
      "metadata": {
        "id": "bb977379"
      },
      "source": [
        "We can see that the most informative input variables are likely to be is_store_open, is_sale_period, and day_of_week."
      ]
    },
    {
      "cell_type": "markdown",
      "id": "efe1a82b",
      "metadata": {
        "id": "efe1a82b"
      },
      "source": [
        "## Preparing the data for training"
      ]
    },
    {
      "cell_type": "markdown",
      "id": "7d74011a",
      "metadata": {
        "id": "7d74011a"
      },
      "source": [
        "Let's first make sure there is no missing data that needs to be handled."
      ]
    },
    {
      "cell_type": "code",
      "execution_count": 14,
      "id": "7a15f3ad",
      "metadata": {
        "colab": {
          "base_uri": "https://localhost:8080/"
        },
        "id": "7a15f3ad",
        "outputId": "68657be9-94b3-45fc-a340-fbec9e21788a"
      },
      "outputs": [
        {
          "output_type": "stream",
          "name": "stdout",
          "text": [
            "sales_data:\n",
            "store_id          0\n",
            "date              0\n",
            "is_store_open     0\n",
            "is_sale_period    0\n",
            "town              0\n",
            "n_cust            0\n",
            "revenue           0\n",
            "year              0\n",
            "month             0\n",
            "day_of_week       0\n",
            "day_of_month      0\n",
            "dtype: int64\n",
            "Sum of missing values: 0\n",
            "\n",
            "sales_data_forecast:\n",
            "store_id          0\n",
            "date              0\n",
            "is_store_open     0\n",
            "is_sale_period    0\n",
            "town              0\n",
            "year              0\n",
            "month             0\n",
            "day_of_week       0\n",
            "day_of_month      0\n",
            "dtype: int64\n",
            "\\Sum of missing values: 0\n"
          ]
        },
        {
          "output_type": "stream",
          "name": "stderr",
          "text": [
            "<>:8: SyntaxWarning: invalid escape sequence '\\S'\n",
            "<>:8: SyntaxWarning: invalid escape sequence '\\S'\n",
            "/tmp/ipython-input-1158945426.py:8: SyntaxWarning: invalid escape sequence '\\S'\n",
            "  print(f\"\\Sum of missing values: {forecast.isnull().sum().sum()}\")\n"
          ]
        }
      ],
      "source": [
        "print(\"sales_data:\")\n",
        "print(sales.isnull().sum())\n",
        "print(f\"Sum of missing values: {sales.isnull().sum().sum()}\")\n",
        "\n",
        "# Check missing data in forecast dataset\n",
        "print(\"\\nsales_data_forecast:\")\n",
        "print(forecast.isnull().sum())\n",
        "print(f\"\\Sum of missing values: {forecast.isnull().sum().sum()}\")"
      ]
    },
    {
      "cell_type": "markdown",
      "id": "e08699a6",
      "metadata": {
        "id": "e08699a6"
      },
      "source": [
        "Let's now separate features from target variables."
      ]
    },
    {
      "cell_type": "code",
      "execution_count": 15,
      "id": "bf34e660",
      "metadata": {
        "colab": {
          "base_uri": "https://localhost:8080/"
        },
        "id": "bf34e660",
        "outputId": "734ffaeb-566b-41bf-9ee6-e42d48f06dfb"
      },
      "outputs": [
        {
          "output_type": "stream",
          "name": "stdout",
          "text": [
            "Features shape: (708796, 8)\n",
            "Features: ['store_id', 'is_store_open', 'is_sale_period', 'town', 'year', 'month', 'day_of_week', 'day_of_month']\n"
          ]
        }
      ],
      "source": [
        "X = train_set.drop(['n_cust', 'revenue'], axis=1)\n",
        "y_cust = train_set['n_cust'].copy()\n",
        "y_rev = train_set['revenue'].copy()\n",
        "\n",
        "# Let's drop the date column, it's not useful for training\n",
        "X = X.drop('date', axis=1)\n",
        "\n",
        "print(\"Features shape:\", X.shape)\n",
        "print(\"Features:\", list(X.columns))"
      ]
    },
    {
      "cell_type": "markdown",
      "id": "ae28ab54",
      "metadata": {
        "id": "ae28ab54"
      },
      "source": [
        "Let's also one-hot encode town."
      ]
    },
    {
      "cell_type": "code",
      "execution_count": 16,
      "id": "2d3e2c92",
      "metadata": {
        "colab": {
          "base_uri": "https://localhost:8080/"
        },
        "id": "2d3e2c92",
        "outputId": "0e23d7d4-b3ae-4d52-a6bb-e3a1da0bd39f"
      },
      "outputs": [
        {
          "output_type": "stream",
          "name": "stdout",
          "text": [
            "Number of columns before: 1 column\n",
            "Number of columns after one-hot encoding: 20 columns\n",
            "New column names: ['town_Balntermou' 'town_Dukem' 'town_Folkbour' 'town_Gugam' 'town_Motown'\n",
            " 'town_Mount Kenmun' 'town_Mount Peyarchar' 'town_Mount Trancesmi'\n",
            " 'town_Mount Tudo' 'town_Mount Wintor' 'town_Nalliwar' 'town_Ny Creek'\n",
            " 'town_Ood' 'town_Port Raykwi' 'town_Port Shamlakesmark' 'town_Port Shep'\n",
            " 'town_Psey Hill' 'town_Rstonemond Hill' 'town_Wadulfield Hill'\n",
            " 'town_Yepthton Beach']\n"
          ]
        }
      ],
      "source": [
        "from sklearn.preprocessing import OneHotEncoder\n",
        "\n",
        "cat_cols = ['town']\n",
        "X_cat = X[cat_cols]\n",
        "\n",
        "cat_encoder = OneHotEncoder(sparse_output=False)\n",
        "X_cat_encoded = cat_encoder.fit_transform(X_cat)\n",
        "\n",
        "print(f\"Number of columns before: {X_cat.shape[1]} column\")\n",
        "print(f\"Number of columns after one-hot encoding: {X_cat_encoded.shape[1]} columns\")\n",
        "print(\"New column names:\", cat_encoder.get_feature_names_out())"
      ]
    },
    {
      "cell_type": "markdown",
      "id": "d565d466",
      "metadata": {
        "id": "d565d466"
      },
      "source": [
        "Let's drop the town column and add the one-hot encoded features to X (as inputs)."
      ]
    },
    {
      "cell_type": "code",
      "execution_count": 17,
      "id": "27bff3f3",
      "metadata": {
        "colab": {
          "base_uri": "https://localhost:8080/"
        },
        "id": "27bff3f3",
        "outputId": "6ab3689e-384a-4e1a-d77f-21bd407c9878"
      },
      "outputs": [
        {
          "output_type": "stream",
          "name": "stdout",
          "text": [
            "Original features: 8 columns\n",
            "Final features: 27 columns\n",
            "Final columns: ['store_id', 'is_store_open', 'is_sale_period', 'year', 'month', 'day_of_week', 'day_of_month', 'town_Balntermou', 'town_Dukem', 'town_Folkbour', 'town_Gugam', 'town_Motown', 'town_Mount Kenmun', 'town_Mount Peyarchar', 'town_Mount Trancesmi', 'town_Mount Tudo', 'town_Mount Wintor', 'town_Nalliwar', 'town_Ny Creek', 'town_Ood', 'town_Port Raykwi', 'town_Port Shamlakesmark', 'town_Port Shep', 'town_Psey Hill', 'town_Rstonemond Hill', 'town_Wadulfield Hill', 'town_Yepthton Beach']\n"
          ]
        }
      ],
      "source": [
        "X_num = X.drop('town', axis=1)\n",
        "\n",
        "# Convert to DataFrame\n",
        "X_cat_df = pd.DataFrame(X_cat_encoded,\n",
        "                       columns=cat_encoder.get_feature_names_out(),\n",
        "                       index=X.index)\n",
        "\n",
        "# Combine the numerical and one-hot encoded features\n",
        "X_final = pd.concat([X_num, X_cat_df], axis=1)\n",
        "\n",
        "print(f\"Original features: {X.shape[1]} columns\")\n",
        "print(f\"Final features: {X_final.shape[1]} columns\")\n",
        "print(\"Final columns:\", list(X_final.columns))"
      ]
    },
    {
      "cell_type": "markdown",
      "id": "b2d96e35",
      "metadata": {
        "id": "b2d96e35"
      },
      "source": [
        "Let's inspect this new DataFrame."
      ]
    },
    {
      "cell_type": "code",
      "execution_count": 18,
      "id": "8f24417d",
      "metadata": {
        "colab": {
          "base_uri": "https://localhost:8080/"
        },
        "id": "8f24417d",
        "outputId": "c9ab0250-996a-4d5f-b548-7fef2ae12a80"
      },
      "outputs": [
        {
          "output_type": "stream",
          "name": "stdout",
          "text": [
            "        store_id  is_store_open  is_sale_period  year  month  day_of_week  \\\n",
            "54625         95              1               1  2010      7            0   \n",
            "829477       981              0               1  2009     10            4   \n",
            "763251       860              1               1  2010     12            0   \n",
            "403094        54              1               1  2011     12            0   \n",
            "184232       459              1               0  2011     11            1   \n",
            "\n",
            "        day_of_month  town_Balntermou  town_Dukem  town_Folkbour  ...  \\\n",
            "54625             12              0.0         0.0            0.0  ...   \n",
            "829477             2              0.0         1.0            0.0  ...   \n",
            "763251             6              0.0         0.0            0.0  ...   \n",
            "403094             5              0.0         0.0            0.0  ...   \n",
            "184232            15              0.0         0.0            0.0  ...   \n",
            "\n",
            "        town_Nalliwar  town_Ny Creek  town_Ood  town_Port Raykwi  \\\n",
            "54625             0.0            0.0       0.0               0.0   \n",
            "829477            0.0            0.0       0.0               0.0   \n",
            "763251            1.0            0.0       0.0               0.0   \n",
            "403094            0.0            0.0       0.0               0.0   \n",
            "184232            0.0            0.0       0.0               0.0   \n",
            "\n",
            "        town_Port Shamlakesmark  town_Port Shep  town_Psey Hill  \\\n",
            "54625                       0.0             0.0             1.0   \n",
            "829477                      0.0             0.0             0.0   \n",
            "763251                      0.0             0.0             0.0   \n",
            "403094                      0.0             0.0             0.0   \n",
            "184232                      0.0             0.0             0.0   \n",
            "\n",
            "        town_Rstonemond Hill  town_Wadulfield Hill  town_Yepthton Beach  \n",
            "54625                    0.0                   0.0                  0.0  \n",
            "829477                   0.0                   0.0                  0.0  \n",
            "763251                   0.0                   0.0                  0.0  \n",
            "403094                   0.0                   0.0                  1.0  \n",
            "184232                   1.0                   0.0                  0.0  \n",
            "\n",
            "[5 rows x 27 columns]\n"
          ]
        }
      ],
      "source": [
        "print(X_final.head())"
      ]
    },
    {
      "cell_type": "markdown",
      "id": "2e3b4805",
      "metadata": {
        "id": "2e3b4805"
      },
      "source": [
        "## Feature scaling and transformations\n",
        "\n",
        "We will not replace n_cust and revenue by their logarithm or square root. It would be great as they are right-skewed with a long tail, and most models prefer Gaussian distributions. But because of the zero-inflation problem, it overly complicates things. However, we will standardize numerical features, as most ML algorithms prefer when all features have roughly the same scale."
      ]
    },
    {
      "cell_type": "code",
      "execution_count": 19,
      "id": "d688dffa",
      "metadata": {
        "colab": {
          "base_uri": "https://localhost:8080/"
        },
        "id": "d688dffa",
        "outputId": "bc7d9a61-0aa2-49c8-841d-a9c013afc639"
      },
      "outputs": [
        {
          "output_type": "stream",
          "name": "stdout",
          "text": [
            "First 5 rows of scaled features:\n",
            "        store_id  is_store_open  is_sale_period      year     month  \\\n",
            "54625  -1.409176       0.454330        1.279801 -0.241229 -0.071513   \n",
            "829477  1.631734      -2.201041        1.279801 -1.586626  0.815369   \n",
            "763251  1.216441       0.454330        1.279801 -0.241229  1.406624   \n",
            "403094 -1.549895       0.454330        1.279801  1.104167  1.406624   \n",
            "184232 -0.159863       0.454330       -0.781371  1.104167  1.110997   \n",
            "\n",
            "        day_of_week  day_of_month  town_Balntermou  town_Dukem  town_Folkbour  \\\n",
            "54625     -1.503205     -0.436872        -0.364325   -0.922114      -0.032021   \n",
            "829477     0.499553     -1.576160        -0.364325    1.084464      -0.032021   \n",
            "763251    -1.503205     -1.120445        -0.364325   -0.922114      -0.032021   \n",
            "403094    -1.503205     -1.234374        -0.364325   -0.922114      -0.032021   \n",
            "184232    -1.002516     -0.095085        -0.364325   -0.922114      -0.032021   \n",
            "\n",
            "        ...  town_Nalliwar  town_Ny Creek  town_Ood  town_Port Raykwi  \\\n",
            "54625   ...      -0.096488       -0.09314 -0.042965         -0.045323   \n",
            "829477  ...      -0.096488       -0.09314 -0.042965         -0.045323   \n",
            "763251  ...      10.363964       -0.09314 -0.042965         -0.045323   \n",
            "403094  ...      -0.096488       -0.09314 -0.042965         -0.045323   \n",
            "184232  ...      -0.096488       -0.09314 -0.042965         -0.045323   \n",
            "\n",
            "        town_Port Shamlakesmark  town_Port Shep  town_Psey Hill  \\\n",
            "54625                 -0.108686       -0.169952        3.827012   \n",
            "829477                -0.108686       -0.169952       -0.261300   \n",
            "763251                -0.108686       -0.169952       -0.261300   \n",
            "403094                -0.108686       -0.169952       -0.261300   \n",
            "184232                -0.108686       -0.169952       -0.261300   \n",
            "\n",
            "        town_Rstonemond Hill  town_Wadulfield Hill  town_Yepthton Beach  \n",
            "54625              -0.194001             -0.032021            -0.554880  \n",
            "829477             -0.194001             -0.032021            -0.554880  \n",
            "763251             -0.194001             -0.032021            -0.554880  \n",
            "403094             -0.194001             -0.032021             1.802193  \n",
            "184232              5.154605             -0.032021            -0.554880  \n",
            "\n",
            "[5 rows x 27 columns]\n",
            "\n",
            "Shape: (708796, 27)\n"
          ]
        }
      ],
      "source": [
        "from sklearn.preprocessing import StandardScaler\n",
        "\n",
        "scaler = StandardScaler()\n",
        "X_scaled = scaler.fit_transform(X_final)\n",
        "X_scaled_df = pd.DataFrame(X_scaled,\n",
        "                          columns=X_final.columns,\n",
        "                          index=X_final.index)\n",
        "\n",
        "print(\"First 5 rows of scaled features:\")\n",
        "print(X_scaled_df.head())\n",
        "\n",
        "print(f\"\\nShape: {X_scaled_df.shape}\")"
      ]
    },
    {
      "cell_type": "markdown",
      "id": "1a48becc",
      "metadata": {
        "id": "1a48becc"
      },
      "source": [
        "Let's also prepare the test data for training using the same steps we used for the training set."
      ]
    },
    {
      "cell_type": "code",
      "execution_count": 20,
      "id": "2bc233cb",
      "metadata": {
        "colab": {
          "base_uri": "https://localhost:8080/"
        },
        "id": "2bc233cb",
        "outputId": "577c45cd-9739-42cf-89b3-06956c59b630"
      },
      "outputs": [
        {
          "output_type": "stream",
          "name": "stdout",
          "text": [
            "Training set: (708796, 27)\n",
            "Test set: (177199, 27)\n"
          ]
        }
      ],
      "source": [
        "X_test = test_set.drop(['n_cust', 'revenue', 'date'], axis=1)\n",
        "y_test_cust = test_set['n_cust'].copy()\n",
        "y_test_rev = test_set['revenue'].copy()\n",
        "\n",
        "# One-hot encode\n",
        "X_test_cat = X_test[['town']]\n",
        "X_test_cat_encoded = cat_encoder.transform(X_test_cat)  # Only transform, don't fit\n",
        "X_test_cat_df = pd.DataFrame(X_test_cat_encoded,\n",
        "                            columns=cat_encoder.get_feature_names_out(),\n",
        "                            index=X_test.index)\n",
        "\n",
        "# Combine numerical and categorical features\n",
        "X_test_num = X_test.drop('town', axis=1)\n",
        "X_test_final = pd.concat([X_test_num, X_test_cat_df], axis=1)\n",
        "\n",
        "# Scale test set using fitted scaler (transform, not fitting)\n",
        "X_test_scaled = scaler.transform(X_test_final)\n",
        "\n",
        "print(f\"Training set: {X_scaled.shape}\")\n",
        "print(f\"Test set: {X_test_scaled.shape}\")"
      ]
    },
    {
      "cell_type": "markdown",
      "id": "581dd981",
      "metadata": {
        "id": "581dd981"
      },
      "source": [
        "## Selecting and training a model\n",
        "\n",
        "Let's start with Linear Regression (LR). I know it's going to perform poorly. LR expects a Gaussian distribution, and the outcome variables are not Gaussian. But we will make predictions on the training set to see how well it seems to learn from data. We will use Mean Absolute Error (MAE). Since we have outcome variables that are right-skewed, and a lot of zeros, RMSE is a poor metric. It will heavily penalize outliers (which we have a lot of), meaning the RMSE gets dominated by a few large errors. MAE treats all errors equally and is more robust to outliers and gives us the average error of X customers."
      ]
    },
    {
      "cell_type": "code",
      "execution_count": 21,
      "id": "9fb09e09",
      "metadata": {
        "colab": {
          "base_uri": "https://localhost:8080/"
        },
        "id": "9fb09e09",
        "outputId": "8f0fad1c-fa2c-4e9f-b30c-5aa106f25a48"
      },
      "outputs": [
        {
          "output_type": "stream",
          "name": "stdout",
          "text": [
            "Customers (MAE): 307.9\n",
            "Revenue (MAE): 2531.2\n",
            "Predicted: [551. 396. 826. 986. 633.]\n",
            "Actual:    [ 588    0  636 1007 1215]\n"
          ]
        }
      ],
      "source": [
        "from sklearn.linear_model import LinearRegression\n",
        "from sklearn.metrics import mean_absolute_error\n",
        "import numpy as np\n",
        "\n",
        "# Prepare targets (train set)\n",
        "y_train_cust = train_set['n_cust'].copy()\n",
        "y_train_rev = train_set['revenue'].copy()\n",
        "\n",
        "# Train LR for n_cust\n",
        "lin_reg_cust = LinearRegression()\n",
        "lin_reg_cust.fit(X_scaled, y_train_cust)\n",
        "\n",
        "# Train LR for revenue\n",
        "lin_reg_rev = LinearRegression()\n",
        "lin_reg_rev.fit(X_scaled, y_train_rev)\n",
        "\n",
        "# Make predictions on training set\n",
        "train_pred_cust = lin_reg_cust.predict(X_scaled)\n",
        "train_pred_rev = lin_reg_rev.predict(X_scaled)\n",
        "\n",
        "# Calculate training errors (metric = MAE)\n",
        "print(f\"Customers (MAE): {mean_absolute_error(y_train_cust, train_pred_cust):.1f}\")\n",
        "print(f\"Revenue (MAE): {mean_absolute_error(y_train_rev, train_pred_rev):.1f}\")\n",
        "\n",
        "# Show some predictions vs actual\n",
        "print(f\"Predicted: {train_pred_cust[:5].round(0)}\")\n",
        "print(f\"Actual:    {y_train_cust.iloc[:5].values}\")"
      ]
    },
    {
      "cell_type": "markdown",
      "id": "ee7f1c55",
      "metadata": {
        "id": "ee7f1c55"
      },
      "source": [
        "As expected, it performs poorly. Let's try Random Forest (RF) instead. It should be able to handle the non-Gaussian outcome distributions better."
      ]
    },
    {
      "cell_type": "code",
      "execution_count": 23,
      "id": "dc8f0615",
      "metadata": {
        "colab": {
          "base_uri": "https://localhost:8080/"
        },
        "id": "dc8f0615",
        "outputId": "7bbaaf89-2891-4fd6-92a3-4b475dc0b3d8"
      },
      "outputs": [
        {
          "output_type": "stream",
          "name": "stdout",
          "text": [
            "Customers - MAE: 96.7\n",
            "Revenue - MAE: 1143.9\n"
          ]
        }
      ],
      "source": [
        "from sklearn.ensemble import RandomForestRegressor\n",
        "\n",
        "# Train Random Forest with fewer trees and limited depth for speed\n",
        "rf_reg_cust = RandomForestRegressor(n_estimators=100, max_depth=20, random_state=42, n_jobs=-1)\n",
        "rf_reg_cust.fit(X_scaled, y_train_cust)\n",
        "\n",
        "# Train Random Forest for revenue\n",
        "rf_reg_rev = RandomForestRegressor(n_estimators=100, max_depth=20, random_state=42, n_jobs=-1)\n",
        "rf_reg_rev.fit(X_scaled, y_train_rev)\n",
        "\n",
        "# Make predictions on training set\n",
        "rf_pred_cust = rf_reg_cust.predict(X_scaled)\n",
        "rf_pred_rev = rf_reg_rev.predict(X_scaled)\n",
        "\n",
        "# Calculate training errors\n",
        "print(f\"Customers - MAE: {mean_absolute_error(y_train_cust, rf_pred_cust):.1f}\")\n",
        "print(f\"Revenue - MAE: {mean_absolute_error(y_train_rev, rf_pred_rev):.1f}\")"
      ]
    },
    {
      "cell_type": "markdown",
      "id": "bf952dbf",
      "metadata": {
        "id": "bf952dbf"
      },
      "source": [
        "RF performs much better than LR. Let's also try XGBoost."
      ]
    },
    {
      "cell_type": "code",
      "execution_count": 28,
      "id": "42cfb8b2",
      "metadata": {
        "colab": {
          "base_uri": "https://localhost:8080/"
        },
        "id": "42cfb8b2",
        "outputId": "03f710ee-127b-4a04-f962-950a943589ca"
      },
      "outputs": [
        {
          "output_type": "stream",
          "name": "stdout",
          "text": [
            "Customers - MAE: 117.7\n",
            "Revenue - MAE: 929.4\n"
          ]
        }
      ],
      "source": [
        "from xgboost import XGBRegressor\n",
        "from sklearn.metrics import mean_absolute_error\n",
        "\n",
        "gpu_params = dict(device=\"cuda\", tree_method=\"hist\")\n",
        "\n",
        "# Train XGBoost for n_cust\n",
        "xgb_reg_cust = XGBRegressor(\n",
        "    n_estimators=100, max_depth=20, random_state=42, n_jobs=-1, **gpu_params\n",
        ")\n",
        "xgb_reg_cust.fit(X_scaled, y_train_cust)\n",
        "\n",
        "# Train XGBoost for revenue\n",
        "xgb_reg_rev = XGBRegressor(\n",
        "    n_estimators=100, max_depth=20, random_state=42, n_jobs=-1, **gpu_params\n",
        ")\n",
        "xgb_reg_rev.fit(X_scaled, y_train_rev)\n",
        "\n",
        "# Make predictions on training set\n",
        "xgb_pred_cust = xgb_reg_cust.predict(X_scaled)\n",
        "xgb_pred_rev  = xgb_reg_rev.predict(X_scaled)\n",
        "\n",
        "# Calculate training errors\n",
        "print(f\"Customers - MAE: {mean_absolute_error(y_train_cust, xgb_pred_cust):.1f}\")\n",
        "print(f\"Revenue - MAE: {mean_absolute_error(y_train_rev,  xgb_pred_rev):.1f}\")\n"
      ]
    },
    {
      "cell_type": "markdown",
      "id": "5abe76c5",
      "metadata": {
        "id": "5abe76c5"
      },
      "source": [
        "XGBoost also performs well.\n",
        "\n",
        "Note: I was running this notebook locally first, but it took ages. So I decided to continue on Colab. Due to time-constraints, I'll only continue with XGBoost. It tends to show state-of-the-art performance on tabular data and is likely great for this task since it can handle the outcome distributions and is generally great for regression tasks when we have tabular data. So I feel confident using it. I'll also only do 3-fold cross-validation and a very simple grid search due to time constraints.\n",
        "\n",
        "Another note: XGBoost doesn't need standardized data (unlike other models), but it doesn't hurt so I'll continue with this set-up."
      ]
    },
    {
      "cell_type": "markdown",
      "id": "d480c020",
      "metadata": {
        "id": "d480c020"
      },
      "source": [
        "## Cross-Validation and fine-tuning the model"
      ]
    },
    {
      "cell_type": "code",
      "source": [
        "from sklearn.model_selection import cross_val_score, GridSearchCV\n",
        "\n",
        "gpu_params = dict(device=\"cuda\", tree_method=\"hist\")\n",
        "param_grid = {\n",
        "    'n_estimators': [50, 100],\n",
        "    'max_depth': [10, 20],\n",
        "    'learning_rate': [0.1, 0.5]\n",
        "}\n",
        "\n",
        "# Hyperparameter tuning for n_cust\n",
        "xgb_grid_cust = GridSearchCV(\n",
        "    XGBRegressor(random_state=42, **gpu_params),\n",
        "    param_grid,\n",
        "    cv=3,\n",
        "    scoring='neg_mean_absolute_error',\n",
        "    n_jobs=1\n",
        ")\n",
        "xgb_grid_cust.fit(X_scaled, y_train_cust)\n",
        "\n",
        "# Hyperparameter tuning for revenue\n",
        "xgb_grid_rev = GridSearchCV(\n",
        "    XGBRegressor(random_state=42, **gpu_params),\n",
        "    param_grid,\n",
        "    cv=3,\n",
        "    scoring='neg_mean_absolute_error',\n",
        "    n_jobs=1\n",
        ")\n",
        "xgb_grid_rev.fit(X_scaled, y_train_rev)\n",
        "\n",
        "print(\"Customers:\")\n",
        "print(f\"Best params: {xgb_grid_cust.best_params_}\")\n",
        "print(f\"Best CV MAE: {-xgb_grid_cust.best_score_:.1f}\")\n",
        "\n",
        "print(\"\\nRevenue:\")\n",
        "print(f\"Best params: {xgb_grid_rev.best_params_}\")\n",
        "print(f\"Best CV MAE: {-xgb_grid_rev.best_score_:.1f}\")\n",
        "\n"
      ],
      "metadata": {
        "colab": {
          "base_uri": "https://localhost:8080/"
        },
        "id": "4vBmaxIevb2g",
        "outputId": "27e257fe-d5ad-4069-fca4-922b1ca18f4f"
      },
      "id": "4vBmaxIevb2g",
      "execution_count": 29,
      "outputs": [
        {
          "output_type": "stream",
          "name": "stdout",
          "text": [
            "Customers:\n",
            "Best params: {'learning_rate': 0.5, 'max_depth': 10, 'n_estimators': 50}\n",
            "Best CV MAE: 182.5\n",
            "\n",
            "Revenue:\n",
            "Best params: {'learning_rate': 0.5, 'max_depth': 10, 'n_estimators': 50}\n",
            "Best CV MAE: 1503.4\n"
          ]
        }
      ]
    },
    {
      "cell_type": "markdown",
      "source": [
        "Now we can evaluate the model on the test set."
      ],
      "metadata": {
        "id": "qRc9yhz9wfvk"
      },
      "id": "qRc9yhz9wfvk"
    },
    {
      "cell_type": "code",
      "source": [
        "test_pred_cust = xgb_grid_cust.best_estimator_.predict(X_test_scaled)\n",
        "test_pred_rev = xgb_grid_rev.best_estimator_.predict(X_test_scaled)\n",
        "\n",
        "print(\"Performance on the test set:\")\n",
        "print(f\"Customers (MAE): {mean_absolute_error(y_test_cust, test_pred_cust):.1f}\")\n",
        "print(f\"Revenue (MAE): {mean_absolute_error(y_test_rev, test_pred_rev):.1f}\")\n",
        "\n",
        "print(\"\\nCV vs Test Comparison:\")\n",
        "print(f\"Customers: {-xgb_grid_cust.best_score_:.1f} (CV) vs {mean_absolute_error(y_test_cust, test_pred_cust):.1f} (Test)\")\n",
        "print(f\"Revenue: {-xgb_grid_rev.best_score_:.1f} (CV) vs {mean_absolute_error(y_test_rev, test_pred_rev):.1f} (Test)\")"
      ],
      "metadata": {
        "colab": {
          "base_uri": "https://localhost:8080/"
        },
        "id": "JaqGXMjhwi4R",
        "outputId": "efae1127-3884-4d8e-f0bf-d67c7f173877"
      },
      "id": "JaqGXMjhwi4R",
      "execution_count": 30,
      "outputs": [
        {
          "output_type": "stream",
          "name": "stdout",
          "text": [
            "Performance on the test set:\n",
            "Customers (MAE): 181.3\n",
            "Revenue (MAE): 1484.8\n",
            "\n",
            "CV vs Test Comparison:\n",
            "Customers: 182.5 (CV) vs 181.3 (Test)\n",
            "Revenue: 1503.4 (CV) vs 1484.8 (Test)\n"
          ]
        }
      ]
    },
    {
      "cell_type": "markdown",
      "source": [
        "## Predicting n_cust and revenue using the forecast CSV file\n",
        "\n",
        "Let's start by preparing the data, we'll redo all data preprocessing steps to have everything in the same code cell."
      ],
      "metadata": {
        "id": "RPnyJCB12g7o"
      },
      "id": "RPnyJCB12g7o"
    },
    {
      "cell_type": "code",
      "source": [
        "forecast = pd.read_csv(\"datasets/sales_data_forecast.csv\")\n",
        "\n",
        "# Add additional features\n",
        "forecast['date'] = pd.to_datetime(forecast['date'])\n",
        "forecast['year'] = forecast['date'].dt.year\n",
        "forecast['month'] = forecast['date'].dt.month\n",
        "forecast['day_of_week'] = forecast['date'].dt.dayofweek\n",
        "forecast['day_of_month'] = forecast['date'].dt.day\n",
        "\n",
        "# Drop date\n",
        "X_forecast = forecast.drop(['date'], axis=1)\n",
        "\n",
        "# One-hot encode towns using the fitted encoder\n",
        "X_forecast_cat = X_forecast[['town']]\n",
        "X_forecast_cat_encoded = cat_encoder.transform(X_forecast_cat)\n",
        "X_forecast_cat_df = pd.DataFrame(X_forecast_cat_encoded,\n",
        "                                columns=cat_encoder.get_feature_names_out(),\n",
        "                                index=X_forecast.index)\n",
        "\n",
        "# Combine numerical and categorical features\n",
        "X_forecast_num = X_forecast.drop('town', axis=1)\n",
        "X_forecast_final = pd.concat([X_forecast_num, X_forecast_cat_df], axis=1)\n",
        "\n",
        "# Scale using scaler fitted on training data\n",
        "X_forecast_scaled = scaler.transform(X_forecast_final)\n",
        "\n",
        "print(f\"Forecast data shape: {X_forecast_scaled.shape}\")\n",
        "print(f\"Features match training: {X_forecast_final.shape[1] == X_final.shape[1]}\")"
      ],
      "metadata": {
        "colab": {
          "base_uri": "https://localhost:8080/"
        },
        "id": "LUCVNp9t2ueE",
        "outputId": "237301b8-85dc-4679-cfa9-83b11e8c3fc9"
      },
      "id": "LUCVNp9t2ueE",
      "execution_count": 31,
      "outputs": [
        {
          "output_type": "stream",
          "name": "stdout",
          "text": [
            "Forecast data shape: (34306, 27)\n",
            "Features match training: True\n"
          ]
        }
      ]
    },
    {
      "cell_type": "markdown",
      "source": [
        "Retrain on all data, make predictions, and download the new CSV file."
      ],
      "metadata": {
        "id": "FER6PNb_3QOl"
      },
      "id": "FER6PNb_3QOl"
    },
    {
      "cell_type": "code",
      "source": [
        "# Best parameters\n",
        "best_params_cust = xgb_grid_cust.best_params_\n",
        "best_params_rev = xgb_grid_rev.best_params_\n",
        "\n",
        "print(f\"Customer model params: {best_params_cust}\")\n",
        "print(f\"Revenue model params: {best_params_rev}\")\n",
        "\n",
        "# Combine train and test sets for final training\n",
        "X_all_scaled = np.vstack([X_scaled, X_test_scaled])\n",
        "y_all_cust = pd.concat([y_train_cust, y_test_cust])\n",
        "y_all_rev = pd.concat([y_train_rev, y_test_rev])\n",
        "\n",
        "# Train final models on all the data\n",
        "final_cust_model = XGBRegressor(random_state=42, **gpu_params, **best_params_cust)\n",
        "final_rev_model = XGBRegressor(random_state=42, **gpu_params, **best_params_rev)\n",
        "\n",
        "final_cust_model.fit(X_all_scaled, y_all_cust)\n",
        "final_rev_model.fit(X_all_scaled, y_all_rev)\n",
        "\n",
        "# Make predictions on forecast data\n",
        "forecast_pred_cust = final_cust_model.predict(X_forecast_scaled)\n",
        "forecast_pred_rev = final_rev_model.predict(X_forecast_scaled)\n",
        "\n",
        "# Create output CSV with predictions\n",
        "output_df = forecast.copy()\n",
        "output_df['n_cust'] = forecast_pred_cust.round(0).astype(int)\n",
        "output_df['revenue'] = forecast_pred_rev.round(1)\n",
        "\n",
        "# Save to CSV\n",
        "output_path = \"sales_data_forecast_with_predictions.csv\"\n",
        "output_df.to_csv(output_path, index=False)\n",
        "\n",
        "print(f\"Shape: {output_df.shape}\")\n",
        "print(\"\\nFirst 5 predictions:\")\n",
        "print(output_df[['store_id', 'date', 'town', 'n_cust', 'revenue']].head())\n",
        "\n",
        "# Download file\n",
        "from google.colab import files\n",
        "files.download(output_path)"
      ],
      "metadata": {
        "colab": {
          "base_uri": "https://localhost:8080/",
          "height": 208
        },
        "id": "uxc1mK483Ua7",
        "outputId": "48f877dd-745c-4f68-ded6-b413646323fd"
      },
      "id": "uxc1mK483Ua7",
      "execution_count": 33,
      "outputs": [
        {
          "output_type": "stream",
          "name": "stdout",
          "text": [
            "Customer model params: {'learning_rate': 0.5, 'max_depth': 10, 'n_estimators': 50}\n",
            "Revenue model params: {'learning_rate': 0.5, 'max_depth': 10, 'n_estimators': 50}\n",
            "Shape: (34306, 11)\n",
            "\n",
            "First 5 predictions:\n",
            "   store_id       date             town  n_cust       revenue\n",
            "0         1 2012-02-03   Yepthton Beach     996   8318.900391\n",
            "1         2 2012-02-03   Yepthton Beach     996   8318.900391\n",
            "2         3 2012-02-03            Dukem    1279  13737.400391\n",
            "3         4 2012-02-03   Yepthton Beach     996   8318.900391\n",
            "4         5 2012-02-03  Mount Trancesmi     560   5156.399902\n"
          ]
        },
        {
          "output_type": "display_data",
          "data": {
            "text/plain": [
              "<IPython.core.display.Javascript object>"
            ],
            "application/javascript": [
              "\n",
              "    async function download(id, filename, size) {\n",
              "      if (!google.colab.kernel.accessAllowed) {\n",
              "        return;\n",
              "      }\n",
              "      const div = document.createElement('div');\n",
              "      const label = document.createElement('label');\n",
              "      label.textContent = `Downloading \"${filename}\": `;\n",
              "      div.appendChild(label);\n",
              "      const progress = document.createElement('progress');\n",
              "      progress.max = size;\n",
              "      div.appendChild(progress);\n",
              "      document.body.appendChild(div);\n",
              "\n",
              "      const buffers = [];\n",
              "      let downloaded = 0;\n",
              "\n",
              "      const channel = await google.colab.kernel.comms.open(id);\n",
              "      // Send a message to notify the kernel that we're ready.\n",
              "      channel.send({})\n",
              "\n",
              "      for await (const message of channel.messages) {\n",
              "        // Send a message to notify the kernel that we're ready.\n",
              "        channel.send({})\n",
              "        if (message.buffers) {\n",
              "          for (const buffer of message.buffers) {\n",
              "            buffers.push(buffer);\n",
              "            downloaded += buffer.byteLength;\n",
              "            progress.value = downloaded;\n",
              "          }\n",
              "        }\n",
              "      }\n",
              "      const blob = new Blob(buffers, {type: 'application/binary'});\n",
              "      const a = document.createElement('a');\n",
              "      a.href = window.URL.createObjectURL(blob);\n",
              "      a.download = filename;\n",
              "      div.appendChild(a);\n",
              "      a.click();\n",
              "      div.remove();\n",
              "    }\n",
              "  "
            ]
          },
          "metadata": {}
        },
        {
          "output_type": "display_data",
          "data": {
            "text/plain": [
              "<IPython.core.display.Javascript object>"
            ],
            "application/javascript": [
              "download(\"download_6d1dde77-9bed-46b5-a76d-dcf83d2384bc\", \"sales_data_forecast_with_predictions.csv\", 1773903)"
            ]
          },
          "metadata": {}
        }
      ]
    },
    {
      "cell_type": "markdown",
      "source": [
        "## What could be improved\n",
        "\n",
        "- If I had more time, I would've tried more models. If I had even more time, I would've maybe analyzed the strengths and weaknesses of each model and used an ensamble method.\n",
        "\n",
        "- More extensive fine-tuning to improve model performance.\n",
        "\n",
        "- More feature engineering, maybe by combining more features.\n",
        "\n"
      ],
      "metadata": {
        "id": "pXsdqGcDxTt7"
      },
      "id": "pXsdqGcDxTt7"
    }
  ],
  "metadata": {
    "kernelspec": {
      "display_name": "Python 3",
      "name": "python3"
    },
    "language_info": {
      "codemirror_mode": {
        "name": "ipython",
        "version": 3
      },
      "file_extension": ".py",
      "mimetype": "text/x-python",
      "name": "python",
      "nbconvert_exporter": "python",
      "pygments_lexer": "ipython3",
      "version": "3.11.9"
    },
    "colab": {
      "provenance": [],
      "gpuType": "L4"
    },
    "accelerator": "GPU"
  },
  "nbformat": 4,
  "nbformat_minor": 5
}